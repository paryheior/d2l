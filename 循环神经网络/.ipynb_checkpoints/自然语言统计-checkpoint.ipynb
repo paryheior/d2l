{
 "cells": [
  {
   "cell_type": "code",
   "execution_count": 1,
   "id": "62325ccc-bb89-40b2-b257-bd0fb74bccc9",
   "metadata": {},
   "outputs": [],
   "source": [
    "import random\n",
    "from d2l import torch as d2l\n",
    "import torch"
   ]
  },
  {
   "cell_type": "code",
   "execution_count": 12,
   "id": "337759f4-f4e5-4acc-8695-417b8ec8b6f5",
   "metadata": {},
   "outputs": [],
   "source": [
    "#@save\n",
    "def read_time_machine():\n",
    "    with open(d2l.download('time_machine')) as f:\n",
    "        lines = f.readlines();\n",
    "    return [re.sub('[^a-zA-z]+', ' ', line).strip().lower() for line in lines]"
   ]
  },
  {
   "cell_type": "code",
   "execution_count": 11,
   "id": "39224441-9d2f-4bf4-87f0-17434139d366",
   "metadata": {},
   "outputs": [
    {
     "ename": "AttributeError",
     "evalue": "module 'd2l.torch' has no attribute 'read_time_machine'",
     "output_type": "error",
     "traceback": [
      "\u001b[0;31m---------------------------------------------------------------------------\u001b[0m",
      "\u001b[0;31mAttributeError\u001b[0m                            Traceback (most recent call last)",
      "Cell \u001b[0;32mIn[11], line 1\u001b[0m\n\u001b[0;32m----> 1\u001b[0m tokens \u001b[38;5;241m=\u001b[39m d2l\u001b[38;5;241m.\u001b[39mtokenize(\u001b[43md2l\u001b[49m\u001b[38;5;241;43m.\u001b[39;49m\u001b[43mread_time_machine\u001b[49m())\n",
      "\u001b[0;31mAttributeError\u001b[0m: module 'd2l.torch' has no attribute 'read_time_machine'"
     ]
    }
   ],
   "source": [
    "tokens = d2l.tokenize(d2l.read_time_machine())"
   ]
  },
  {
   "cell_type": "code",
   "execution_count": null,
   "id": "296525fd-e9e9-4abd-96b5-398cb44c89b3",
   "metadata": {},
   "outputs": [],
   "source": []
  }
 ],
 "metadata": {
  "kernelspec": {
   "display_name": "Python 3 (ipykernel)",
   "language": "python",
   "name": "python3"
  },
  "language_info": {
   "codemirror_mode": {
    "name": "ipython",
    "version": 3
   },
   "file_extension": ".py",
   "mimetype": "text/x-python",
   "name": "python",
   "nbconvert_exporter": "python",
   "pygments_lexer": "ipython3",
   "version": "3.9.19"
  }
 },
 "nbformat": 4,
 "nbformat_minor": 5
}
